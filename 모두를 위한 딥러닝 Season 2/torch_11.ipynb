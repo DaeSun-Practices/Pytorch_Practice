{
  "nbformat": 4,
  "nbformat_minor": 0,
  "metadata": {
    "colab": {
      "name": "torch_intro_11.ipynb",
      "provenance": [],
      "collapsed_sections": []
    },
    "kernelspec": {
      "name": "python3",
      "display_name": "Python 3"
    }
  },
  "cells": [
    {
      "cell_type": "code",
      "metadata": {
        "id": "0by8Vyk_yYQh"
      },
      "source": [
        "import torch\r\n",
        "import torch.nn as nn\r\n",
        "import torch.nn.functional as F\r\n",
        "import torch.optim as optim\r\n",
        "from torch.utils.data import Dataset\r\n",
        "from torch.utils.data import DataLoader\r\n",
        "\r\n",
        "import torchvision.transforms as transforms\r\n",
        "\r\n",
        "import torch.nn.init as init\r\n",
        "\r\n",
        "import numpy as np"
      ],
      "execution_count": 11,
      "outputs": []
    },
    {
      "cell_type": "code",
      "metadata": {
        "colab": {
          "base_uri": "https://localhost:8080/"
        },
        "id": "AW1q2WSH4DpT",
        "outputId": "249570dc-f92a-4526-c670-8de6e04abb3e"
      },
      "source": [
        "torch.manual_seed(1)"
      ],
      "execution_count": 12,
      "outputs": [
        {
          "output_type": "execute_result",
          "data": {
            "text/plain": [
              "<torch._C.Generator at 0x7fa013607b58>"
            ]
          },
          "metadata": {
            "tags": []
          },
          "execution_count": 12
        }
      ]
    },
    {
      "cell_type": "code",
      "metadata": {
        "id": "BVEQoWMH6ShQ",
        "colab": {
          "base_uri": "https://localhost:8080/"
        },
        "outputId": "4c914cdc-aba3-4282-80e3-67dd8d6c6b86"
      },
      "source": [
        "input_size = 4\r\n",
        "hidden_size = 2\r\n",
        "\r\n",
        "h = [1, 0, 0, 0]\r\n",
        "e = [0, 1, 0, 0]\r\n",
        "l = [0, 0, 1, 0]\r\n",
        "o = [0, 0, 0, 1]\r\n",
        "\r\n",
        "input_data_np = np.array([[h, e, l, l, o],\r\n",
        "                          [e, o, l, l, l],\r\n",
        "                          [l, l, e, e, l]], dtype = np.float32)\r\n",
        "\r\n",
        "input_data = torch.Tensor(input_data_np)\r\n",
        "\r\n",
        "rnn = torch.nn.RNN(input_size, hidden_size)\r\n",
        "\r\n",
        "outputs, _status = rnn(input_data)\r\n",
        "\r\n",
        "print(outputs)\r\n",
        "print(_status)"
      ],
      "execution_count": 10,
      "outputs": [
        {
          "output_type": "stream",
          "text": [
            "tensor([[[-0.3724,  0.6888],\n",
            "         [-0.4594,  0.5928],\n",
            "         [ 0.1238,  0.7576],\n",
            "         [ 0.1238,  0.7576],\n",
            "         [-0.2670,  0.6663]],\n",
            "\n",
            "        [[-0.3703,  0.6583],\n",
            "         [-0.1484,  0.6849],\n",
            "         [ 0.1214,  0.8702],\n",
            "         [ 0.1214,  0.8702],\n",
            "         [ 0.2046,  0.8124]],\n",
            "\n",
            "        [[ 0.2266,  0.7959],\n",
            "         [ 0.1793,  0.8310],\n",
            "         [-0.4578,  0.7886],\n",
            "         [-0.4578,  0.7886],\n",
            "         [ 0.1052,  0.8830]]], grad_fn=<StackBackward>)\n",
            "tensor([[[ 0.2266,  0.7959],\n",
            "         [ 0.1793,  0.8310],\n",
            "         [-0.4578,  0.7886],\n",
            "         [-0.4578,  0.7886],\n",
            "         [ 0.1052,  0.8830]]], grad_fn=<StackBackward>)\n"
          ],
          "name": "stdout"
        }
      ]
    }
  ]
}